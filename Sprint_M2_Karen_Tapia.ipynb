{
  "nbformat": 4,
  "nbformat_minor": 0,
  "metadata": {
    "colab": {
      "provenance": []
    },
    "kernelspec": {
      "name": "python3",
      "display_name": "Python 3"
    },
    "language_info": {
      "name": "python"
    }
  },
  "cells": [
    {
      "cell_type": "markdown",
      "source": [
        "# Descripción de la Actividad Evaluativa\n",
        "Vamos a crear un sistema de facturación y bodega simplificado, el cual tendrá diferentes opciones:\n",
        "\n",
        "a) Ingresar producto: debe ingresarse el nombre y el precio del producto. Tendrá un sub menú: nuevo producto, guardar archivo o volver.\n",
        "\n",
        "b) Ingresar factura: debe ingresarse el nombre del cliente, luego deberá generar un submenú: ingresar producto, guardar y salir.\n",
        "\n",
        "Los productos se ingresan con nombre y precio. La factura además debe guardar la fecha y hora actual de la venta.\n",
        "\n",
        "c) Ver resumen: en esta opción se debe desplegar:\n",
        "Cantidad de ventas y monto total vendido. Opción de guardar resumen (ingresando nombre de archivo).\n",
        "\n",
        "d) Ver detalle: se debe tener las opciones desplegar: ventas por usuario, ventas por producto, ventas diarias, guardar vista (ingresando el nombre de archivo)."
      ],
      "metadata": {
        "id": "HE_wxAo-TqSP"
      }
    },
    {
      "cell_type": "markdown",
      "source": [
        "# Importacion de Librerias Panda"
      ],
      "metadata": {
        "id": "Zp2EsxbR1-04"
      }
    },
    {
      "cell_type": "code",
      "source": [
        "import pandas as pd\n",
        "from datetime import datetime #importacion de modulo datetime\n",
        "\n",
        "archivo_productos=\"productos.csv\" #se crean los nombres de los archivos a desplegar\n",
        "archivo_facturas=\"facturas.csv\"\n",
        "archivo_detalle=\"detalle.csv\"\n"
      ],
      "metadata": {
        "id": "H97T75PH1uPn"
      },
      "execution_count": null,
      "outputs": []
    },
    {
      "cell_type": "markdown",
      "source": [
        "Carga de archivos\n",
        "\n",
        "Execpciones de errores"
      ],
      "metadata": {
        "id": "-T3JzYbc2pB2"
      }
    },
    {
      "cell_type": "code",
      "source": [
        "try:\n",
        "    df_productos= pd.read_csv(archivo_productos) #libreria lee el archivo\n",
        "except FileNotFoundError: #exepcion de error\n",
        "    df_productos=pd.DataFrame(columns=['Nombre','Precio'])#almacena datos en las columnas nombre y precio\n",
        "\n",
        "try:\n",
        "    df_facturas=pd.read_csv(archivo_facturas) #libreria lee el archivo\n",
        "except FileNotFoundError: #exepcion de error\n",
        "    df_facturas=pd.DataFrame(columns=['Cliente', 'Fecha', 'Productos']) #almacena datos en las columnas cliente, fecha y productos\n"
      ],
      "metadata": {
        "id": "HDuASzvf2ofQ"
      },
      "execution_count": null,
      "outputs": []
    },
    {
      "cell_type": "markdown",
      "source": [
        "a) Ingresar Producto"
      ],
      "metadata": {
        "id": "ra4Vhjzu4PC-"
      }
    },
    {
      "cell_type": "code",
      "source": [
        "def ingresar_producto(): #metodo ingresar producto\n",
        "    global df_productos #variable global\n",
        "    nombre = input(\"Ingrese el nombre del producto:\") #se almacena el nombre del producto en la variable nombre\n",
        "\n",
        "    while True: #bucle de error\n",
        "        precio_input=input(\"ingrese el precio del producto\") # se almacena el dato indicado por el usuario en la varible\n",
        "    try:\n",
        "        precio = float(precio_input) #se cambia la variable a tipo flotante\n",
        "         # break\n",
        "    except ValueError:\n",
        "        print(\"Error: Ingrese un valor numerico valido\") #se despliega mensaje de error\n",
        "\n",
        "    nuevo_producto = pd.DataFrame({'Nombre':[nombre],'Precio': [precio]}) #funcion almacena datos en columnas nombre y precio\n",
        "    df_productos=pd.concat([df_productos,nuevo_producto],ignore_index=True) #funcion que une las dataframe\n",
        "\n",
        "    print(\"producto ingresado correctamente\") #mensaje desplegado cuando se ingresa un producto\n"
      ],
      "metadata": {
        "id": "AH6TorJR4S47"
      },
      "execution_count": null,
      "outputs": []
    },
    {
      "cell_type": "markdown",
      "source": [
        "b) Ingresar Factura"
      ],
      "metadata": {
        "id": "Ke0an90I7Ngp"
      }
    },
    {
      "cell_type": "code",
      "source": [
        "def ingresar_factura():#metodo ingresar factura\n",
        "    global df_facturas #varible global\n",
        "    cliente=input(\"Ingrese el nombre del cliente: \")#se almacena el nombre del cliente en la variable\n",
        "    fecha = datetime.now().strftime('%y-%m-%d %H:%M:%S') #se registra la fecha actual, con la funcion .now en el formato aa/mm/dd h:m:s\n",
        "\n",
        "    productos_factura = [] #se crea lista vacia\n",
        "    while True: #bucle\n",
        "        nombre_producto = input(\"Ingrese el nombre del producto(o'q' para salir):\") #se almacena el nombre del producto en la variable. o puede salir del precionando q\n",
        "        if nombre_producto.lower()=='q': #si el usuario ingreso Q, la cambia a minuscula con la funcion .lower\n",
        "           break\n",
        "        productos_factura.append(nombre_producto) #la funsion append agrega el nombre ingresado por el usuario, a la ultima posicion de la cola\n",
        "\n",
        "    nueva_factura = pd.DataFrame({'Cliente':[cliente], 'Fecha':[fecha], 'Productos': [productos_factura]})#se definen los dataframe de la factura\n",
        "    df_facturas = pd.concat([df_facturas, nueva_factura],ignore_index=True) #funcio que une las dataframe\n",
        "    print(\"Factura ingresada correctamente\")#mensaje desplegado al almacenar los datos ingresados por el usuario\n"
      ],
      "metadata": {
        "id": "WbXZ4BlR7QP0"
      },
      "execution_count": null,
      "outputs": []
    },
    {
      "cell_type": "markdown",
      "source": [
        "c) Ver Resumen"
      ],
      "metadata": {
        "id": "ps_8FDuB9d99"
      }
    },
    {
      "cell_type": "code",
      "source": [
        "def ver_resumen():#metodo\n",
        "    global df_facturas, df_productos #variable global\n",
        "    cantidad_ventas = len(df_facturas)#la variable sera el numero de valores de la lista de facturas almacenadas\n",
        "    monto_total_vendido = df_facturas.apply(lambda row: sum(df_productos[df_productos['Nombre'].isin(row['Productos'])]['Precio']),axis=1).sum()#calculo para determinar el monto total de facturas, usando la funcion lambda\n",
        "\n",
        "    print(f\"\\nResumen:\") #Titulo desplegado\n",
        "    print(f\"cantidad de ventas: {cantidad_ventas}\") #despliega la cantidad de ventas\n",
        "    print(f\"monto total vendido: {monto_total_vendido}\") #despliega el monto total vendido\n",
        "\n",
        "    opcion_guardar = input(\"¿Desea guardar el resumen? (S/N): \") #pregunta al usuario si desea guardar el resumen\n",
        "    if opcion_guardar.lower() =='s':#cambia la S a minuscula\n",
        "       archivo_guardar = input(\"ingrese el nombre del arcivo para guardar el resumen: \") # si el usuario desea guardar el archivo, se pide ingresa el nombre del archivo\n",
        "       df_resumen = pd.DataFrame({'cantidad_ventas': [cantidad_ventas], 'Monto_Total_Vendido': [monto_total_vendido]})# las dataframes se almacenan en la lista\n",
        "       df_resumen.to_csv(archivo_guardar + '.csv', index=False)#la lista con las dataframes se convierte en archivo formato .csv\n",
        "       print(f\"resumen guardado en {archivo_guardar}.csv\") #mensaje de confirmacion que fue guardado el archivo\n"
      ],
      "metadata": {
        "id": "waVZ54Uj9gXL"
      },
      "execution_count": null,
      "outputs": []
    },
    {
      "cell_type": "markdown",
      "source": [
        "d) Ver detalle"
      ],
      "metadata": {
        "id": "k5-F66ZVAZ4X"
      }
    },
    {
      "cell_type": "code",
      "source": [
        "def ver_detalle(): #metodo ver detalle\n",
        "    global df_facturas #variable global\n",
        "    print(\"\\nDetalle: \")#Titulo del menu\n",
        "    print(\"1. ventas por usuario\") #lista de opciones para elegir\n",
        "    print(\"2. Ventas por producto\")\n",
        "    print(\"3. ventas diarias\")\n",
        "    print(\"4. volver\")\n",
        "\n",
        "    opcion_detalle = input(\"seleccione una opcion: \") #ingreso de opcion\n",
        "\n",
        "    if opcion_detalle =='1': #opcion ventas por usuario\n",
        "       ventas_usuario = df_facturas.groupby('Cliente').size().reset_index(name='cantidad_ventas')#despliega la cantidad de ventas realizadas por un usuario\n",
        "      #la funcion groupby divide la dataframe para rescatar la informacion del cliente y de la cantidad de ventas realizas\n",
        "       print(ventas_usuario) #despliega el listado de cantidad de ventas por usuario\n",
        "    elif opcion_detalle=='2':#opcion ventas por producto\n",
        "         ventas_producto=df_facturas.explode('Productos')#la funcion explode divide del dataframe a productos\n",
        "         ventas_producto=ventas_producto.groupby('Productos').size().reset_index(name='cantidad_ventas') #\n",
        "         #la funcion groupby divide la dataframe para rescatar la informacion de productos y de la cantidad de ventas realizas\n",
        "         print(ventas_producto) # despliega el listado de ventas por producto\n",
        "    elif opcion_detalle == '3':#opcion 3 ventas diarias\n",
        "         ventas_diarias =df_facturas.groupby(df_facturas['Fecha'].str.split(' ').str[0]).size().reset_index(name='cantidad-ventas')\n",
        "         #la funcion groupby divide la dataframe para rescatar la informacion de la cantidad de ventas realizas en la fecha\n",
        "         print(ventas_diarias) #despliega listado de ventas con fecha\n",
        "    elif opcion_detalle =='4':#opcion volver\n",
        "          return\n",
        "\n",
        "    opcion_guardar =input(\"¿Desea guardar la vista? (s\\n):\") #Mensaje para usuario si desea guardar la informacion desplegada\n",
        "    if opcion_guardar.lower()== 's':#cambia de S a minuscula\n",
        "       archivo_guardar =input(\"Ingrese el nombre del archivo para guardar la vista: \") #solicita el nombre del archivo para guardar\n",
        "       if opcion_detalle == '1':\n",
        "          ventas_usuario.to_csv(archivo_guardar + '.csv', index=False) #la lista con las dataframes se convierte en archivo formato .csv\n",
        "       elif opcion_detalle=='2':\n",
        "            ventas_producto.to_csv(archivo_guardar + 'csv', index=False)#la lista con las dataframes se convierte en archivo formato .csv\n",
        "       print(f\"vista guardada en {archivo_guardar}.csv\") #mensaje de confirmacion que se guardo el archivo\n"
      ],
      "metadata": {
        "id": "fjrivQjRAcMK"
      },
      "execution_count": null,
      "outputs": []
    },
    {
      "cell_type": "markdown",
      "source": [
        "e) Borrar datos"
      ],
      "metadata": {
        "id": "sNjpNV-mGBKX"
      }
    },
    {
      "cell_type": "code",
      "source": [
        "def borrar_datos(): #metodo para borrar datos\n",
        "    global df_productos,df_facturas #variables globales\n",
        "    print(\"\\nBorrar datos: \") #Titulo\n",
        "    print(\"1. Borrar productos\")#opciones\n",
        "    print(\"2. Borrar facturas\")\n",
        "    print(\"3. Borrar todos los datos\")\n",
        "    print(\"4. volver\")\n",
        "\n",
        "    opcion_borrar = input(\"Seleccione una opcion: \") #mensaje solicita ingresar una opcion, la cual se almacena en la varible\n",
        "\n",
        "    if opcion_borrar =='1': #opcion borrar\n",
        "       df_productos = pd.DataFrame(columns=['Nombre', 'Precio']) #se modifican las columnas del dataframe\n",
        "       df_productos.to_csv(archivo_productos, index=False) # se crea un archivo .csv con el dataframe\n",
        "       print(\"Datos de productos borrados.\") #mensaje de confirmacion de borrado de datos\n",
        "    elif opcion_borrar =='2':\n",
        "        df_facturas=pd.DataFrame(columnas=['cliente','fecha','productos'])#se modifican las columnas del dataframe\n",
        "        df_facturas.to_csv(archivo_facturas, index=False) # se crea un archivo .csv con el dataframe\n",
        "        print(\"Datos de facturas borrados.\")#mensaje de confirmacion de borrado de datos\n",
        "    elif opcion_borrar =='4':#opcion volver\n",
        "        return"
      ],
      "metadata": {
        "id": "OOaPg_dkGJVX"
      },
      "execution_count": null,
      "outputs": []
    },
    {
      "cell_type": "markdown",
      "source": [
        "f) Salir"
      ],
      "metadata": {
        "id": "S2dWJ578IQVW"
      }
    },
    {
      "cell_type": "code",
      "source": [
        "def main(): #ejecucion del algoritmo\n",
        "    global df_productos, df_facturas #variables globales\n",
        "    while True: #bucle condicional\n",
        "         print(\"\\nSistema de facturacion y bodega\")#titulo del menu\n",
        "         print(\"\\nMenu principal:\")#Menu\n",
        "         print(\"\\na. Ingresar Producto\\nb. Ingresar Factura\\nc. Ver Resumen\\nd. Ver Detalle\\ne. Borrar Datos\\nf. Salir\") #mensaje de opciones\n",
        "         opcion =input(\"\\nSeleccione una opcion: \").lower() #se almacena la opcion ingresada y si es mayuscula la cambia a minuscula\n",
        "         if opcion=='a':\n",
        "             ingresar_producto() #llama al metodo ingresar producto\n",
        "         elif opcion =='b':\n",
        "             ingresar_factura()#llama al metodo ingresar factura\n",
        "         elif opcion=='c':\n",
        "             ver_resumen()#llama al metodo ver resumen\n",
        "         elif opcion =='d':\n",
        "             ver_detalle()#llama al metodo ver detalle\n",
        "         elif opcion =='e':\n",
        "             borrar_datos()#llama al metodo borrar datos\n",
        "         elif opcion=='f':\n",
        "              print(\"saliendo\") #mensaje confirma salida de algoritmo\n",
        "              break\n",
        "         else:\n",
        "              print(\"Opcion no valida. Intentelo de nuevo.\")#mensaje que despliega el ingreso de una opcion no valida\n",
        "\n",
        "if __name__==\"__main__\":\n",
        "    main()"
      ],
      "metadata": {
        "id": "18HMAoAIIShG"
      },
      "execution_count": null,
      "outputs": []
    }
  ]
}