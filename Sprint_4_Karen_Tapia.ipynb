{
  "nbformat": 4,
  "nbformat_minor": 0,
  "metadata": {
    "colab": {
      "provenance": []
    },
    "kernelspec": {
      "name": "python3",
      "display_name": "Python 3"
    },
    "language_info": {
      "name": "python"
    }
  },
  "cells": [
    {
      "cell_type": "markdown",
      "source": [
        "# Sprint Modulo 4\n",
        "\n",
        "Karen Tapia"
      ],
      "metadata": {
        "id": "IzjHm7mv4A2s"
      }
    },
    {
      "cell_type": "markdown",
      "source": [
        "Se importan librerias para la ejecucion del algoritmo"
      ],
      "metadata": {
        "id": "m9a3XpjEFDEJ"
      }
    },
    {
      "cell_type": "code",
      "execution_count": null,
      "metadata": {
        "id": "v7IfqgHjE1T8"
      },
      "outputs": [],
      "source": [
        "import pandas as pd\n",
        "import matplotlib.pyplot as plt\n",
        "import seaborn as sns\n",
        "from scipy import stats\n",
        "import numpy as np\n",
        "\n",
        "\n",
        "house_path = \"/content/drive/MyDrive/house.csv\"\n",
        "#house_path = \"house.csv\"\n",
        "\n",
        "#archivos procesados en pandas\n",
        "df_house = pd.read_csv(house_path)\n",
        "\n",
        "df_house.head(10) #despliega un encabezado de 10 filas\n"
      ]
    },
    {
      "cell_type": "code",
      "source": [
        "#eliminacion de las columnas indicadas\n",
        "columns_eliminar = ['Alley', 'FireplaceQu','PoolQC', 'Fence', 'MiscFeature', 'LotFrontage']\n",
        "df_house.drop(columns=columns_eliminar, inplace=True)\n",
        "print(\"Columnas eliminadas\")\n",
        "df_house.info()\n"
      ],
      "metadata": {
        "id": "5fOAxMxvLxj9"
      },
      "execution_count": null,
      "outputs": []
    },
    {
      "cell_type": "code",
      "source": [
        "#limpieza de datos revicion de valores NaN\n",
        "#contabilizar los NaN\n",
        "nan_counts = df_house.isna().sum()\n",
        "#filtrar solo las columnas que tiene valores NaN\n",
        "nan_columns = nan_counts[nan_counts > 0]\n",
        "nan_columns\n"
      ],
      "metadata": {
        "id": "DOTSmR5DMnrO"
      },
      "execution_count": null,
      "outputs": []
    },
    {
      "cell_type": "code",
      "source": [
        "#limpieza de datos para las variables numericas y categoricas\n",
        "#para las variables numericas, asignamos la mediana\n",
        "num_columns_with_nan=['MasVnrArea', 'GarageYrBlt']\n",
        "for column in num_columns_with_nan:\n",
        "    df_house[column].fillna(df_house[column].median(), inplace=True)\n",
        "\n",
        "  #para las variables categoricas, asignamos el valor \"desconocido\"\n",
        "cat_columns_with_nan = ['MasVnrType', 'BsmtQual', 'BsmtCond', 'BsmtExposure',\n",
        "                          'BsmtFinType1', 'BsmtFinType2', 'Electrical', 'GarageType',\n",
        "                          'GarageFinish', 'GarageQual','GarageCond']\n",
        "for column in cat_columns_with_nan:\n",
        "    df_house[column].fillna('Desconocido', inplace=True)\n",
        "  #revisando los valores NaN\n",
        "nan_counts = df_house.isna().sum()\n",
        "nan_columns = nan_counts[nan_counts > 0]\n",
        "nan_columns"
      ],
      "metadata": {
        "id": "X0ZCixLPNLu_"
      },
      "execution_count": null,
      "outputs": []
    },
    {
      "cell_type": "code",
      "source": [
        "#resumen estadistico de las variables numericas\n",
        "summary_statistics = df_house.describe()\n",
        "summary_statistics.head()\n"
      ],
      "metadata": {
        "id": "vm3V9O4dQABr"
      },
      "execution_count": null,
      "outputs": []
    },
    {
      "cell_type": "code",
      "source": [
        "#configuracion de los graficos para totalBsmtSF, SalePrice y GrLivArea en una sola salida\n",
        "fig, axes = plt.subplots(1,3,figsize=(18,5))\n",
        "#TotalBsmtSF\n",
        "sns.histplot(df_house['TotalBsmtSF'], kde=True, ax=axes[0])\n",
        "axes[0].set_title('Total Basement Area (sq feet)')\n",
        "#SalePrice\n",
        "sns.histplot(df_house['SalePrice'], kde=True, ax=axes[1])\n",
        "axes[1].set_title('Sale Price')\n",
        "#GrLivArea\n",
        "sns.histplot(df_house['GrLivArea'], kde=True, ax=axes[2])\n",
        "axes[2].set_title('Above Groud Living Area (sq feat)')\n",
        "plt.tight_layout()\n",
        "plt.show()\n"
      ],
      "metadata": {
        "id": "_vOrelOFQc0n"
      },
      "execution_count": null,
      "outputs": []
    },
    {
      "cell_type": "code",
      "source": [
        "#Crear diagramas de boxplot para TotalBsmtSF, SalePrice y GrLivArea para identificar outliers\n",
        "fig, axes=plt.subplots(1,3,figsize=(18,5))\n",
        "#TotalBsmtSF\n",
        "sns.boxplot(x=df_house['TotalBsmtSF'], ax=axes[0])\n",
        "axes[0].set_title('TotalBsmtSF Area (sq feet)')\n",
        "#SalePrice\n",
        "sns.boxplot(x=df_house['SalePrice'],ax=axes[1])\n",
        "axes[1].set_title('SalePrice')\n",
        "#GrLivArea\n",
        "sns.boxplot(x=df_house['GrLivArea'], ax=axes[2])\n",
        "axes[2].set_title('Above Ground Living Area (sq feet)')\n",
        "\n",
        "plt.tight_layout()\n",
        "plt.show()"
      ],
      "metadata": {
        "id": "Qj6vB3Sz3fwv"
      },
      "execution_count": null,
      "outputs": []
    },
    {
      "cell_type": "code",
      "source": [
        "#eliminacion de outliers\n",
        "#funcion para eliminar outliers basados en IQR\n",
        "def remove_outliers(df, column):\n",
        "    Q1= df[column].quantile(0.25)\n",
        "    Q3= df[column].quantile(0.75)\n",
        "    IQR = Q3-Q1\n",
        "    lower_bound = Q1 - 1.5 *IQR\n",
        "    upper_bound = Q3+1.5*IQR\n",
        "    return df[(df[column] >= lower_bound)&(df[column]<= upper_bound)]\n",
        "\n",
        "#eliminar outliers de las tres variables\n",
        "df_cleaned = remove_outliers(df_house, 'TotalBsmtSF')\n",
        "#estos dos codigos ya incorporan df_house, por eso los elimina desde df_cleaned\n",
        "df_cleaned= remove_outliers(df_cleaned,'SalePrice')\n",
        "df_cleaned= remove_outliers(df_cleaned, 'GrLivArea')\n",
        "#crear nuevamente diagramas de boxplot para las variables despues de eliminar outliers\n",
        "fig, axes = plt.subplots(1,3,figsize=(18,5))\n",
        "#TotalBsmtSF\n",
        "sns.boxplot(x=df_cleaned['TotalBsmtSF'],ax=axes[0])\n",
        "axes[0].set_title('Total basement Area (sq feet) - Cleaned')\n",
        "#salePrice\n",
        "sns.boxplot(x=df_cleaned['SalePrice'], ax=axes[1])\n",
        "axes[1].set_title('Sale Price - cleaned')\n",
        "#GrLivArea\n",
        "sns.boxplot(x=df_cleaned['GrLivArea'], ax=axes[2])\n",
        "axes[2].set_title('above ground living area (sq feet) - Cleaned')\n",
        "plt.tight_layout()\n",
        "plt.show"
      ],
      "metadata": {
        "id": "3sIsWrs0_jbF"
      },
      "execution_count": null,
      "outputs": []
    },
    {
      "cell_type": "code",
      "source": [
        "#Grafico de distribucion de las variables\n",
        "fig, axes = plt.subplots(1,3, figsize=(18,5))\n",
        "#TotalBsmtSF\n",
        "sns.histplot(df_cleaned['TotalBsmtSF'], kde=True, ax=axes[0])\n",
        "axes[0].set_title('Total Basement Area (sq feet)')\n",
        "#SalePrice\n",
        "sns.histplot(df_cleaned['SalePrice'], kde=True, ax=axes[1])\n",
        "axes[1].set_title('Sale Price')\n",
        "#GrLivArea\n",
        "sns.histplot(df_cleaned['GrLivArea'], kde=True, ax=axes[2])\n",
        "axes[2].set_title('Above Ground Living Area (sq feet)')\n",
        "plt.tight_layout()\n",
        "plt.show()\n"
      ],
      "metadata": {
        "id": "TeL9VKqeE6FR"
      },
      "execution_count": null,
      "outputs": []
    },
    {
      "cell_type": "code",
      "source": [
        "from scipy import stats\n",
        "import numpy as np #se importa libreria numpy\n",
        "#definir el nivel de confianza\n",
        "confidence_level=0.95\n",
        "#calcular el intervalo de confianza para el precio de venta promedio\n",
        "sale_price_mean = df_cleaned['SalePrice'].mean()\n",
        "sale_price_std = df_cleaned['SalePrice'].std()\n",
        "n=len(df_cleaned['SalePrice'])\n",
        "z_critical = stats.norm.ppf((1+confidence_level)/2) #Z-score para el nivelde confianza del 95%\n",
        "#margen de error\n",
        "margin_of_error = z_critical *(sale_price_std/np.sqrt(n))\n",
        "#intervalo de confianza\n",
        "confidence_interval = (sale_price_mean - margin_of_error, sale_price_mean + margin_of_error)\n",
        "#umbral de accesibilidad en terminos monetarios (hipotetico)\n",
        "accessibility_threshold = 150000\n",
        "#realizar la prueba de hipotesis\n",
        "\n",
        "t_stat, p_value = stats.ttest_1samp(df_cleaned['SalePrice'], accessibility_threshold)\n",
        "#resultados\n",
        "print(f\"intervalo de confianza: {confidence_interval}\")\n",
        "print(f\"valor t {t_stat}\")\n",
        "print(f\"valor t {p_value}\")\n"
      ],
      "metadata": {
        "id": "Q7ummv43Gk46"
      },
      "execution_count": null,
      "outputs": []
    },
    {
      "cell_type": "markdown",
      "source": [
        "El resultado de la prueba de hipótesis nos dice que el precio de venta promedio de las casas es estadísticamente significativo y diferente del umbral de de accesibilidad de $150.000 que habíamos considerado. Con valor p muy por debajo  del nivel de significancia estándar de 0.05,  rechazamos la hipótesis nula de que el precio de venta promedio es igual a\n",
        "\n",
        "$150.000 esto indica que, en promedio, las casas en este mercado son más caras que nuestro umbral definido para la accesibilidad.\n",
        "En base a las conclusiones obtenidas en el presente análisis, podemos señalar que para un adulto joven recién egresado buscando comprar su primera casa, el mercado actual puede presentar desafíos en términos de precios. Las casas, en promedio están por encima del umbral de accesibilidad preestablecido, lo que sugiere necesidad de una planificación financiera cuidadosa y la exploración de opciones de vivienda que ofrezcan un buen equilibrio entre precio, ubicación y características deseables.\n",
        "Para elaborar un análisis más preciso y realista, resulta esencial incorporar  un espectro más amplio de variables, así como llevar a cabo un  exhaustivo estudio de mercado que permita determinar un valor adecuado para el umbral de accesibilidad vigente. Un caso ilustrativo de esto se observa en chile. Donde los eventos anteriores y posteriores a la pandemia han provocado una escalada en los precios del sector inmobiliario. Este fenómeno se ha complicado de manera creciente la adquisición de vivienda propia para los profesionales jóvenes, evidenciando la dinámica y volatilidad del mercado. En este contexto, comprender las fluctuaciones tendencias actuales se vuelve fundamental para ajustar nuestras estimaciones y recomendaciones, asegurando que reflejen las condiciones del mercado en tiempo real y proporcionen una guía valiosa para la toma de decisiones informadas en el ámbito de la vivienda.\n",
        "\n"
      ],
      "metadata": {
        "id": "TMd7vomrFnT0"
      }
    }
  ]
}