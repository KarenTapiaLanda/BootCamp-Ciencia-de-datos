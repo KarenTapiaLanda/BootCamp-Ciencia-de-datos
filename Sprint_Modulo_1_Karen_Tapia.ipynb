{
  "nbformat": 4,
  "nbformat_minor": 0,
  "metadata": {
    "colab": {
      "provenance": []
    },
    "kernelspec": {
      "name": "python3",
      "display_name": "Python 3"
    },
    "language_info": {
      "name": "python"
    }
  },
  "cells": [
    {
      "cell_type": "markdown",
      "source": [
        "# Evaluacion Modulo 1\n",
        "Desarrollar un sistema de gestión de inventario que permita a los usuarios agregar, eliminar y\n",
        "actualizar productos en el inventario, así como realizar consultas y generar informes sobre el\n",
        "estado del inventario. El sistema debe estar estructurado utilizando programación orientada a\n",
        "objetos, y debe aplicar buenas prácticas de la industria, como la modularización del código y el\n",
        "manejo de errores y excepciones."
      ],
      "metadata": {
        "id": "oJxckoCibbgR"
      }
    },
    {
      "cell_type": "markdown",
      "source": [
        "# Clases\n",
        "\n",
        "Se implementan la clase producto y la clase Inventario. con sus atributos y metodos para el almacenamiento de los datos de cada producto"
      ],
      "metadata": {
        "id": "ll4DPNRNk69s"
      }
    },
    {
      "cell_type": "code",
      "execution_count": null,
      "metadata": {
        "id": "h2rnpGUTC5nT"
      },
      "outputs": [],
      "source": [
        "class Producto:\n",
        "\n",
        "    def __init__(self, id, nombre, descripcion, cantidad, precio): #atributos de la clase producto\n",
        "       self.id = id\n",
        "       self.nombre = nombre\n",
        "       self.descripcion = descripcion\n",
        "       self.cantidad = cantidad\n",
        "       self.precio = precio\n",
        "# metodo que sirve para obtener la informacion del producto con sus atribustos\n",
        "    def obtener_informacion(self): #metodo de la clase producto\n",
        "        return {\n",
        "            \"id\":self.id,\n",
        "            \"nombre\":self.nombre,\n",
        "            \"descripcion\":self.descripcion,\n",
        "            \"cantidad\": self.cantidad,\n",
        "            \"precio\" :self.precio\n",
        "        }\n",
        "# metodos que sirven para actualizar y/o modificar los atributos del producto\n",
        "    def actualizar_nombre(self, nombre):\n",
        "        self.nombre = nombre\n",
        "\n",
        "    def actualizar_descripcion(self,descripcion):\n",
        "        self.descripcion = descripcion\n",
        "\n",
        "    def actualizar_cantidad(self,cantidad):\n",
        "        self.cantidad=cantidad\n",
        "\n",
        "    def actualizar_precio(self,precio):\n",
        "        self.precio=precio\n",
        "\n",
        "class Inventario: # clase inventario de productos\n",
        "      def __init__(self):\n",
        "        self.productos = {}\n",
        "\n",
        "      def agregar_producto(self,producto): #metodo agregar atributos al producto\n",
        "          if producto.id in self.productos: # funcion condicional que llama a clase producto\n",
        "             print(f'Producto con ID {producto.id} ya existe') #mensaje desplegado en condicion de id del producto,cuando ya existe\n",
        "          else:\n",
        "            self.productos[producto.id] = producto\n",
        "#mensaje desplegado en condicion de id del producto, si fue agregado con exito al inventario\n",
        "            print('Producto con ID {producto.id} agregado al inventario')\n",
        "\n",
        "      def eliminar_producto(self,id): #metodo para eliminar producto del inventario\n",
        "          if id in self.productos: #funcion condicional que llama a la variable productos\n",
        "             del self.productos[id]\n",
        "             print(f'Producto con ID {id} eliminado del inventario') #mensaje desplegado al confirmar producto del inventario\n",
        "          else:\n",
        "             print(f'producto con id {id} no encontrado en el inventario') #mensaje desplegado cuando no se encuantra el id del producto\n",
        "\n",
        "# metodo que actualiza atributos de la lista de productos\n",
        "      def actualizar_producto(self, id, nombre=None, descripcion=None, cantidad=None, precio=None):\n",
        "          if id in self.productos:\n",
        "             producto=self.productos[id]\n",
        "             if nombre is not None:\n",
        "               producto.actualizar_nombre(nombre)\n",
        "             if descripcion is not None:\n",
        "               producto.actualizar_descripcion(descripcion)\n",
        "             if cantidad is not None:\n",
        "               producto.actualizar_cantidad(cantidad)\n",
        "             if precio is not None:\n",
        "               producto.actualizar_precio(precio)\n",
        "               print(f'producto con ID {id} actualizado en el inventario') #mensaje que despliega la confirmacion del producto actualizado\n",
        "          else:\n",
        "            print(f'producto con ID {id} no encontrado en el inventario')#mensaje que despliega cuando el producto no es encontrado en la lista\n",
        "\n",
        "      def obtener_informacion_producto(self,id): #metodo para obtener informacion del producto\n",
        "          if id in self.productos: #funcion condicional que busca el id en la variable productos\n",
        "             return self.productos[id].obtener_informacion() #retorna el resultado\n",
        "          else:\n",
        "               return f'producto con id{id} no encontrado en el inventario' # mensaje condicional que se depliega al no encontrar el id del producto\n",
        "\n",
        "      def generar_informe(self): #genera informe repecto de un producto\n",
        "          for producto in self.productos.values(): #funcion que despliega los datos del producto\n",
        "              print(producto.obtener_informacion()) #mensaje que despliega los datos del producto almacenados en la varible\n",
        "\n",
        "#menu para el usuario\n",
        "      def mostrar_menu(): #se despliegan las siguientes opciones\n",
        "          print(\"\\nSistema de gestion de inventario\")\n",
        "          print(\"1. Agregar producto\")\n",
        "          print(\"2. Eliminar producto\")\n",
        "          print(\"3. Actualizar producto\")\n",
        "          print(\"4. Mostrar informacion de mi producto\")\n",
        "          print(\"5. Generar informe del inventario\")\n",
        "          print(\"6, Salir\")\n",
        "          return input(\"Seleccione una opcion: \") #mensaje que pide al usuario insertar un numero segun la opcion requerida\n",
        "\n",
        "# una vez ingresada la opcion del menu y este no es correcto se aplican las siguientes funciones de errores\n",
        "      def obtener_entero(mensaje): #condicion de errores\n",
        "          while True:\n",
        "             try:\n",
        "                 return int(input(mensaje))\n",
        "             except ValueError:\n",
        "                 print(\"Por favor, ingrese un numero entero valido\")\n",
        "      #mensaje que se despliega el ingresar un numero que no corresponde a las opciones del menu\n",
        "\n",
        "      def obtener_flotante(mensaje):\n",
        "           while True:\n",
        "             try:\n",
        "                 return float(input(mensaje))\n",
        "             except ValueError:\n",
        "                 print(\"por Favor, ingrese un numero flotante valido\")\n",
        "#mensaje que se despliega el ingresar un numero que no corresponde a las opciones del menu"
      ]
    },
    {
      "cell_type": "markdown",
      "source": [
        "# Despliegue y ejecucion del Menu"
      ],
      "metadata": {
        "id": "Xzb2hG3m3B0X"
      }
    },
    {
      "cell_type": "code",
      "source": [
        "\n",
        "\n",
        "      def main():\n",
        "          inventario=Inventario() #variable llama a clase inventario\n",
        "\n",
        "          while True: #bucle condicional\n",
        "              opcion = mostrar_menu() #variable llama a metodo mostrar menu\n",
        "\n",
        "              if opcion=='1': #opcion 1 agregar producto\n",
        "                  id= obtener_entero(\"ID del producto\") #el usuario ingresa el id del producto\n",
        "                  nombre=input(\"nombre del producto:\")#el usuario ingresa el nombre del producto\n",
        "                  descripcion = input(\"descripcion del producto\")#el usuario ingresa la descripcion del producto\n",
        "                  cantidad=obtener_entero(\"cantidad:\")#el usuario ingresa la cantidad del producto\n",
        "                  precio=obtener_flotante(\"Precio:\")#el usuario ingresa el precio del producto\n",
        "                  producto=producto(id, nombre, descripcion, cantidad, precio) # los atributos son almacenados en la lista producto\n",
        "                  inventario.agregar_producto(producto)\n",
        "\n",
        "              elif opcion=='2': #opcion 2 eliminar producto\n",
        "                    id = obtener_entero(\"ID del producto a eliminar: \") #el usuario ingresa el id del producto a eliminar\n",
        "                    inventario.eliminar_producto(id) # funcion que elimina el id indicado por el usuario\n",
        "\n",
        "              elif opcion =='3': #Opcion 3 Actualizar y/o modificar el producto\n",
        "                   id=obtener_entero(\"id del producto a actualizar:\") #el usuario ingresa el id del producto que necesita modificar\n",
        "                   nombre=input(\"nuevo nombre(dejar en blanco para no cambiar):\") #el usuario ingresa el nombre del producto que necesita modificar\n",
        "                   descripcion=input(\"nueva descripcion (dejar en blanco para no cambiar):\") #el usuario ingresa la descripcion del producto que necesita modificar\n",
        "                   cantidad_str=input(\"nueva cantidad (dejar en blanco para no cambiar):\") #el usuario ingresa la cantidad del producto que necesita modificar\n",
        "                   precio_str=input(\"nuevo precio (dejar en blanco para no cambiar):\") #el usuario ingresa el precio del producto que necesita modificar\n",
        "                   cantidad = int(cantidad_str) if cantidad_str.isdigit() else None #funcion condicional para modificar la cantidad y que no este vacio\n",
        "                   precio = float(precio_str) if precio_str.replace('.','',1).isdigit()else None #funcion condicional para modificar el precio y que no este vacio\n",
        "\n",
        "                   inventario.actualizar_producto(id, nombre if nombre else None, descripcion if descripcion else None, cantidad if cantidad is not None else None, precio if precio is not None else None)\n",
        "#variable inventario actualiza la lista de los atributos del producto modificado\n",
        "\n",
        "              elif opcion =='4': #opcion 4 mostrar informacion del producto\n",
        "                   id=obtener_entero(\"Id del producto a mostrar:\") #el usuario ingresa id de producto\n",
        "                   info=inventario.obtener_informacion_producto(id) #la variable rescata la informacion del rpoducto\n",
        "                   if info: #si el id es encontrado\n",
        "                       print(info) #se despliega la informacion del producto\n",
        "                   else:\n",
        "                       print(f'producto con id {id} no encontrado')#se despliega el mensaje cuando el id no esta en la lista\n",
        "\n",
        "              elif opcion =='5': #opcion 5 generar informe del inventario\n",
        "                    inventario.generar_informe() #genera el informe desde la variable inventario\n",
        "\n",
        "              elif opcion =='6': #opcion 6 salir\n",
        "                    print(\"saliendo del sistema...\") #mensaje que despliega al salir sel sistema\n",
        "                    break #sale de la ejecucion del algoritmo\n",
        "\n",
        "              else:\n",
        "                  print(\"opcion no valida, intente de nuevo\") #mensaje que despliega al ingresar un numero que no esta en las opciones\n",
        "\n",
        "if __name__== \"__main__\":\n",
        "\n",
        "    main() #ejecuta el cuerpo del algoritmo\n",
        "\n"
      ],
      "metadata": {
        "id": "huM1rUGAGA-8"
      },
      "execution_count": null,
      "outputs": []
    },
    {
      "cell_type": "markdown",
      "source": [],
      "metadata": {
        "id": "vpe9oyfWbZTn"
      }
    }
  ]
}